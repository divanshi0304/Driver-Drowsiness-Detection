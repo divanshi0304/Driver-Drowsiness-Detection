{
  "nbformat": 4,
  "nbformat_minor": 0,
  "metadata": {
    "colab": {
      "name": "normalisation",
      "provenance": []
    },
    "kernelspec": {
      "name": "python3",
      "display_name": "Python 3"
    },
    "language_info": {
      "name": "python"
    },
    "accelerator": "GPU"
  },
  "cells": [
    {
      "cell_type": "code",
      "metadata": {
        "id": "38m8r-8LV_oB"
      },
      "source": [
        "import pandas as pd\n",
        "import numpy as np"
      ],
      "execution_count": null,
      "outputs": []
    },
    {
      "cell_type": "code",
      "metadata": {
        "colab": {
          "base_uri": "https://localhost:8080/"
        },
        "id": "eDkvkasZZgew",
        "outputId": "afaf0f17-f564-4ce0-e34b-d99789db4971"
      },
      "source": [
        "from google.colab import drive\n",
        "drive.mount('/content/drive/')"
      ],
      "execution_count": null,
      "outputs": [
        {
          "output_type": "stream",
          "name": "stdout",
          "text": [
            "Drive already mounted at /content/drive/; to attempt to forcibly remount, call drive.mount(\"/content/drive/\", force_remount=True).\n"
          ]
        }
      ]
    },
    {
      "cell_type": "code",
      "metadata": {
        "id": "0o0f07cXZtRL"
      },
      "source": [
        "root_dir='drive/My Drive/driverdrowsiness_csv/'"
      ],
      "execution_count": null,
      "outputs": []
    },
    {
      "cell_type": "code",
      "metadata": {
        "id": "zP7AXCHybKFZ"
      },
      "source": [
        "# #1->1,2,3,6\n",
        "# #2->1,3,4,5,6\n",
        "# #3->1,3,4,5,6\n",
        "# #4->2,3,4,5\n",
        "# #5->3,4,5,6\n",
        "\n",
        "# f1=[1,2,3,4]\n",
        "# f2=[1,3,4,5,6]\n",
        "# f3=[1,2,3,4,5,6]\n",
        "\n",
        "final=pd.DataFrame(columns = [\"Participant\", \"EAR\", \"MAR\", \"Circularity\", \"MOE\"])\n",
        "for fold in [1,2,3,4,5,6]:\n",
        "  #if fold==1:\n",
        "    for user in [1,2,3,4,5]:\n",
        "      for label in [0,10]:\n",
        "        df1=pd.read_csv(root_dir+'F'+str(fold)+'_U'+str(user)+'_L'+str(label)+'_features.csv')\n",
        "        df2=pd.read_csv(root_dir+'F'+str(fold)+'_U'+str(user)+'_L'+str(label)+'_labels.csv')\n",
        "        df1 = pd.concat([df1, df2], axis=1)\n",
        "        for row in df1['0']:\n",
        "          row[0]=(fold-1)*6+row[0]\n",
        "        frames=[final,df1]\n",
        "        final=pd.concat(frames)\n",
        "\n",
        "#   if fold==1:\n",
        "#     for user in f1:\n",
        "#       for label in [0,10]:\n",
        "#         df1=pd.read_csv(root_dir+'F'+str(fold)+'_U'+str(user)+'_L'+str(label)+'_features.csv')\n",
        "#         df2=pd.read_csv(root_dir+'F'+str(fold)+'_U'+str(user)+'_L'+str(label)+'_labels.csv')\n",
        "#         df1 = df1.set_axis([\"Pet\", \"Color\"], axis=1)\n",
        "#         df1 = pd.concat([df1, df2], axis=1)\n",
        "#         for row in df1['0']:\n",
        "#           row[0]=(fold-1)*6+row[0]\n",
        "#         frames=[final,df1]\n",
        "#         final=pd.concat(frames)\n",
        "\n",
        "#   if fold==1:\n",
        "#     for user in f1:\n",
        "#       for label in [0,10]:\n",
        "#         df1=pd.read_csv(root_dir+'F'+str(fold)+'_U'+str(user)+'_L'+str(label)+'_features.csv')\n",
        "#         df2=pd.read_csv(root_dir+'F'+str(fold)+'_U'+str(user)+'_L'+str(label)+'_labels.csv')\n",
        "#         df1 = pd.concat([df1, df2], axis=1)\n",
        "#         for row in df1['0']:\n",
        "#           row[0]=(fold-1)*6+row[0]\n",
        "#         frames=[final,df1]\n",
        "#         final=pd.concat(frames)"
      ],
      "execution_count": 1,
      "outputs": []
    },
    {
      "cell_type": "code",
      "metadata": {
        "colab": {
          "base_uri": "https://localhost:8080/",
          "height": 221
        },
        "id": "KPWnLgmreuHI",
        "outputId": "a39bedfa-15c3-4e69-b8fd-b80abecbdfdd"
      },
      "source": [
        "import glob\n",
        "df_features = [pd.read_csv(f, header=None, names=[\"Participant\", \"EAR\", \"MAR\", \"Circularity\", \"MOE\"]) for f in glob.glob(root_dir+'F*_U*_L*_features.csv')]\n",
        "df_labels = [pd.read_csv(f, header=None, names=[\"Y\"]) for f in glob.glob(root_dir+'F*_U*_L*_labels.csv')]\n",
        "\n",
        "df = pd.concat([pd.concat(df_features,ignore_index=True), pd.concat(df_labels,ignore_index=True)], axis=1)\n",
        "print(df.shape) \n",
        "df.drop(axis=0, index=0,inplace=True,)\n",
        "\n",
        "# Save merged file\n",
        "df.to_csv(r'drive/My Drive/driverdrowsiness_csv/final3.csv',index=False)\n",
        "df.head()"
      ],
      "execution_count": null,
      "outputs": [
        {
          "output_type": "stream",
          "text": [
            "(10604, 6)\n"
          ],
          "name": "stdout"
        },
        {
          "output_type": "execute_result",
          "data": {
            "text/html": [
              "<div>\n",
              "<style scoped>\n",
              "    .dataframe tbody tr th:only-of-type {\n",
              "        vertical-align: middle;\n",
              "    }\n",
              "\n",
              "    .dataframe tbody tr th {\n",
              "        vertical-align: top;\n",
              "    }\n",
              "\n",
              "    .dataframe thead th {\n",
              "        text-align: right;\n",
              "    }\n",
              "</style>\n",
              "<table border=\"1\" class=\"dataframe\">\n",
              "  <thead>\n",
              "    <tr style=\"text-align: right;\">\n",
              "      <th></th>\n",
              "      <th>Participant</th>\n",
              "      <th>EAR</th>\n",
              "      <th>MAR</th>\n",
              "      <th>Circularity</th>\n",
              "      <th>MOE</th>\n",
              "      <th>Y</th>\n",
              "    </tr>\n",
              "  </thead>\n",
              "  <tbody>\n",
              "    <tr>\n",
              "      <th>1</th>\n",
              "      <td>1.0</td>\n",
              "      <td>0.291891</td>\n",
              "      <td>0.914267</td>\n",
              "      <td>0.482719</td>\n",
              "      <td>3.132220</td>\n",
              "      <td>10.0</td>\n",
              "    </tr>\n",
              "    <tr>\n",
              "      <th>2</th>\n",
              "      <td>1.0</td>\n",
              "      <td>0.298348</td>\n",
              "      <td>0.907725</td>\n",
              "      <td>0.496882</td>\n",
              "      <td>3.042501</td>\n",
              "      <td>10.0</td>\n",
              "    </tr>\n",
              "    <tr>\n",
              "      <th>3</th>\n",
              "      <td>1.0</td>\n",
              "      <td>0.293436</td>\n",
              "      <td>0.927617</td>\n",
              "      <td>0.454084</td>\n",
              "      <td>3.161228</td>\n",
              "      <td>10.0</td>\n",
              "    </tr>\n",
              "    <tr>\n",
              "      <th>4</th>\n",
              "      <td>1.0</td>\n",
              "      <td>0.307491</td>\n",
              "      <td>0.932127</td>\n",
              "      <td>0.463758</td>\n",
              "      <td>3.031399</td>\n",
              "      <td>10.0</td>\n",
              "    </tr>\n",
              "    <tr>\n",
              "      <th>5</th>\n",
              "      <td>1.0</td>\n",
              "      <td>0.333347</td>\n",
              "      <td>0.914072</td>\n",
              "      <td>0.491748</td>\n",
              "      <td>2.742100</td>\n",
              "      <td>10.0</td>\n",
              "    </tr>\n",
              "  </tbody>\n",
              "</table>\n",
              "</div>"
            ],
            "text/plain": [
              "   Participant       EAR       MAR  Circularity       MOE     Y\n",
              "1          1.0  0.291891  0.914267     0.482719  3.132220  10.0\n",
              "2          1.0  0.298348  0.907725     0.496882  3.042501  10.0\n",
              "3          1.0  0.293436  0.927617     0.454084  3.161228  10.0\n",
              "4          1.0  0.307491  0.932127     0.463758  3.031399  10.0\n",
              "5          1.0  0.333347  0.914072     0.491748  2.742100  10.0"
            ]
          },
          "metadata": {
            "tags": []
          },
          "execution_count": 4
        }
      ]
    },
    {
      "cell_type": "code",
      "metadata": {
        "colab": {
          "base_uri": "https://localhost:8080/",
          "height": 419
        },
        "id": "3RnRL1GYt--a",
        "outputId": "818155d0-e1fa-4ddd-e12d-90def0f84665"
      },
      "source": [
        "df_total=pd.read_csv(root_dir+'final3.csv')\n",
        "cols = df_total.columns.tolist()\n",
        "cols = cols[-1:] + cols[4:5] + cols[:4]\n",
        "df_total = df_total[cols]\n",
        "df_total"
      ],
      "execution_count": null,
      "outputs": [
        {
          "output_type": "execute_result",
          "data": {
            "text/html": [
              "<div>\n",
              "<style scoped>\n",
              "    .dataframe tbody tr th:only-of-type {\n",
              "        vertical-align: middle;\n",
              "    }\n",
              "\n",
              "    .dataframe tbody tr th {\n",
              "        vertical-align: top;\n",
              "    }\n",
              "\n",
              "    .dataframe thead th {\n",
              "        text-align: right;\n",
              "    }\n",
              "</style>\n",
              "<table border=\"1\" class=\"dataframe\">\n",
              "  <thead>\n",
              "    <tr style=\"text-align: right;\">\n",
              "      <th></th>\n",
              "      <th>Y</th>\n",
              "      <th>MOE</th>\n",
              "      <th>Participant</th>\n",
              "      <th>EAR</th>\n",
              "      <th>MAR</th>\n",
              "      <th>Circularity</th>\n",
              "    </tr>\n",
              "  </thead>\n",
              "  <tbody>\n",
              "    <tr>\n",
              "      <th>0</th>\n",
              "      <td>10</td>\n",
              "      <td>3.132220</td>\n",
              "      <td>1</td>\n",
              "      <td>0.291891</td>\n",
              "      <td>0.914267</td>\n",
              "      <td>0.482719</td>\n",
              "    </tr>\n",
              "    <tr>\n",
              "      <th>1</th>\n",
              "      <td>10</td>\n",
              "      <td>3.042501</td>\n",
              "      <td>1</td>\n",
              "      <td>0.298348</td>\n",
              "      <td>0.907725</td>\n",
              "      <td>0.496882</td>\n",
              "    </tr>\n",
              "    <tr>\n",
              "      <th>2</th>\n",
              "      <td>10</td>\n",
              "      <td>3.161228</td>\n",
              "      <td>1</td>\n",
              "      <td>0.293436</td>\n",
              "      <td>0.927617</td>\n",
              "      <td>0.454084</td>\n",
              "    </tr>\n",
              "    <tr>\n",
              "      <th>3</th>\n",
              "      <td>10</td>\n",
              "      <td>3.031399</td>\n",
              "      <td>1</td>\n",
              "      <td>0.307491</td>\n",
              "      <td>0.932127</td>\n",
              "      <td>0.463758</td>\n",
              "    </tr>\n",
              "    <tr>\n",
              "      <th>4</th>\n",
              "      <td>10</td>\n",
              "      <td>2.742100</td>\n",
              "      <td>1</td>\n",
              "      <td>0.333347</td>\n",
              "      <td>0.914072</td>\n",
              "      <td>0.491748</td>\n",
              "    </tr>\n",
              "    <tr>\n",
              "      <th>...</th>\n",
              "      <td>...</td>\n",
              "      <td>...</td>\n",
              "      <td>...</td>\n",
              "      <td>...</td>\n",
              "      <td>...</td>\n",
              "      <td>...</td>\n",
              "    </tr>\n",
              "    <tr>\n",
              "      <th>10555</th>\n",
              "      <td>10</td>\n",
              "      <td>2.651222</td>\n",
              "      <td>22</td>\n",
              "      <td>0.300739</td>\n",
              "      <td>0.797325</td>\n",
              "      <td>0.436028</td>\n",
              "    </tr>\n",
              "    <tr>\n",
              "      <th>10556</th>\n",
              "      <td>10</td>\n",
              "      <td>2.524995</td>\n",
              "      <td>22</td>\n",
              "      <td>0.313246</td>\n",
              "      <td>0.790945</td>\n",
              "      <td>0.465389</td>\n",
              "    </tr>\n",
              "    <tr>\n",
              "      <th>10557</th>\n",
              "      <td>10</td>\n",
              "      <td>2.917181</td>\n",
              "      <td>22</td>\n",
              "      <td>0.279668</td>\n",
              "      <td>0.815843</td>\n",
              "      <td>0.430749</td>\n",
              "    </tr>\n",
              "    <tr>\n",
              "      <th>10558</th>\n",
              "      <td>10</td>\n",
              "      <td>2.674906</td>\n",
              "      <td>22</td>\n",
              "      <td>0.300905</td>\n",
              "      <td>0.804894</td>\n",
              "      <td>0.453738</td>\n",
              "    </tr>\n",
              "    <tr>\n",
              "      <th>10559</th>\n",
              "      <td>10</td>\n",
              "      <td>2.696478</td>\n",
              "      <td>22</td>\n",
              "      <td>0.299942</td>\n",
              "      <td>0.808788</td>\n",
              "      <td>0.429992</td>\n",
              "    </tr>\n",
              "  </tbody>\n",
              "</table>\n",
              "<p>10560 rows × 6 columns</p>\n",
              "</div>"
            ],
            "text/plain": [
              "        Y       MOE  Participant       EAR       MAR  Circularity\n",
              "0      10  3.132220            1  0.291891  0.914267     0.482719\n",
              "1      10  3.042501            1  0.298348  0.907725     0.496882\n",
              "2      10  3.161228            1  0.293436  0.927617     0.454084\n",
              "3      10  3.031399            1  0.307491  0.932127     0.463758\n",
              "4      10  2.742100            1  0.333347  0.914072     0.491748\n",
              "...    ..       ...          ...       ...       ...          ...\n",
              "10555  10  2.651222           22  0.300739  0.797325     0.436028\n",
              "10556  10  2.524995           22  0.313246  0.790945     0.465389\n",
              "10557  10  2.917181           22  0.279668  0.815843     0.430749\n",
              "10558  10  2.674906           22  0.300905  0.804894     0.453738\n",
              "10559  10  2.696478           22  0.299942  0.808788     0.429992\n",
              "\n",
              "[10560 rows x 6 columns]"
            ]
          },
          "metadata": {
            "tags": []
          },
          "execution_count": 5
        }
      ]
    },
    {
      "cell_type": "code",
      "metadata": {
        "colab": {
          "base_uri": "https://localhost:8080/"
        },
        "id": "BQDdRkod3MES",
        "outputId": "ed90c0a3-8e5a-44c9-f2bb-0f6b4d32aee7"
      },
      "source": [
        "# t = df_total.drop_duplicates(\"Participant\")\n",
        "# df_total = df_total[~df_total.Participant.isin(t[t.Y > 0].Participant)]\n",
        "# df_total.shape"
      ],
      "execution_count": null,
      "outputs": [
        {
          "output_type": "execute_result",
          "data": {
            "text/plain": [
              "(2832, 6)"
            ]
          },
          "metadata": {
            "tags": []
          },
          "execution_count": 41
        }
      ]
    },
    {
      "cell_type": "code",
      "metadata": {
        "id": "DQiAqeSI5QqQ"
      },
      "source": [
        "df_alert = df_total[df_total[\"Y\"]==0]"
      ],
      "execution_count": null,
      "outputs": []
    },
    {
      "cell_type": "code",
      "metadata": {
        "colab": {
          "base_uri": "https://localhost:8080/"
        },
        "id": "yup5Sa7M5gb2",
        "outputId": "883eb42a-29ea-4a5f-fde4-28e441cd0bf6"
      },
      "source": [
        "print(df_alert.shape)"
      ],
      "execution_count": null,
      "outputs": [
        {
          "output_type": "stream",
          "text": [
            "(5280, 6)\n"
          ],
          "name": "stdout"
        }
      ]
    },
    {
      "cell_type": "code",
      "metadata": {
        "id": "d_Y_6Oxj5e5V"
      },
      "source": [
        "df_alert_1 = df_alert.iloc[0::240, :]\n",
        "df_alert_2 = df_alert.iloc[1::240, :]\n",
        "df_alert_3 = df_alert.iloc[2::240, :]"
      ],
      "execution_count": null,
      "outputs": []
    },
    {
      "cell_type": "code",
      "metadata": {
        "id": "SeaBZ_8q5nWn"
      },
      "source": [
        "#Merging them into one dataframe\n",
        "alert_first3 = [df_alert_1,df_alert_2,df_alert_3]\n",
        "df_alert_first3 = pd.concat(alert_first3)\n",
        "df_alert_first3 = df_alert_first3.sort_index()"
      ],
      "execution_count": null,
      "outputs": []
    },
    {
      "cell_type": "code",
      "metadata": {
        "colab": {
          "base_uri": "https://localhost:8080/"
        },
        "id": "WCHq5li_5tKH",
        "outputId": "06cc64d7-225b-4c4a-85a7-c77e194b6bd7"
      },
      "source": [
        "#Based on the first 3 \"Alert\" frames, calculating respondent-wise mean and std for each feature\n",
        "df_means = df_alert_first3.groupby(\"Participant\")[\"EAR\",\"MAR\",\"Circularity\",\"MOE\"].mean()\n",
        "df_std = df_alert_first3.groupby(\"Participant\")[\"EAR\",\"MAR\",\"Circularity\",\"MOE\"].std()"
      ],
      "execution_count": null,
      "outputs": [
        {
          "output_type": "stream",
          "text": [
            "/usr/local/lib/python3.7/dist-packages/ipykernel_launcher.py:2: FutureWarning: Indexing with multiple keys (implicitly converted to a tuple of keys) will be deprecated, use a list instead.\n",
            "  \n",
            "/usr/local/lib/python3.7/dist-packages/ipykernel_launcher.py:3: FutureWarning: Indexing with multiple keys (implicitly converted to a tuple of keys) will be deprecated, use a list instead.\n",
            "  This is separate from the ipykernel package so we can avoid doing imports until\n"
          ],
          "name": "stderr"
        }
      ]
    },
    {
      "cell_type": "code",
      "metadata": {
        "id": "H5Cg3WCo7zuD",
        "colab": {
          "base_uri": "https://localhost:8080/"
        },
        "outputId": "81b3ef6d-77a0-4204-e869-debe089f94b0"
      },
      "source": [
        "print(df_means)\n",
        "print(df_std)"
      ],
      "execution_count": null,
      "outputs": [
        {
          "output_type": "stream",
          "text": [
            "                  EAR       MAR  Circularity       MOE\n",
            "Participant                                           \n",
            "1            0.263581  0.970955     0.395454  3.689084\n",
            "2            0.294268  1.039154     0.441576  3.547873\n",
            "3            0.376711  1.191817     0.519738  3.164180\n",
            "4            0.353838  1.228749     0.510286  3.486326\n",
            "5            0.329513  0.865760     0.448881  2.634166\n",
            "7            0.235807  1.044421     0.393164  4.484137\n",
            "8            0.345302  0.977309     0.469180  2.832706\n",
            "9            0.300963  1.288917     0.455608  4.301215\n",
            "10           0.191879  1.060966     0.326513  6.003048\n",
            "11           0.192115  1.026641     0.383478  5.434818\n",
            "12           0.303139  0.930245     0.433082  3.072348\n",
            "13           0.299328  0.930767     0.467749  3.119007\n",
            "14           0.287642  1.042579     0.429302  3.664940\n",
            "15           0.342567  1.033504     0.506191  3.031356\n",
            "16           0.221074  0.980338     0.365000  4.435155\n",
            "17           0.227335  1.161344     0.374484  5.316941\n",
            "18           0.261631  1.091835     0.412263  4.399617\n",
            "19           0.316959  0.971328     0.464654  3.069567\n",
            "20           0.275382  1.035096     0.430227  3.758907\n",
            "21           0.266296  0.844105     0.403639  3.176411\n",
            "22           0.302062  0.786090     0.428064  2.618850\n",
            "                  EAR       MAR  Circularity       MOE\n",
            "Participant                                           \n",
            "1            0.012184  0.009586     0.025250  0.178296\n",
            "2            0.025074  0.034327     0.017011  0.318829\n",
            "3            0.009718  0.036867     0.009036  0.084418\n",
            "4            0.026358  0.010812     0.056057  0.276526\n",
            "5            0.029976  0.049744     0.064748  0.134202\n",
            "7            0.029455  0.011266     0.029121  0.530287\n",
            "8            0.010535  0.026891     0.015444  0.138862\n",
            "9            0.031035  0.056826     0.018586  0.271186\n",
            "10           0.058717  0.035536     0.044788  2.348015\n",
            "11           0.028661  0.010958     0.013792  0.914613\n",
            "12           0.013423  0.021248     0.016206  0.140858\n",
            "13           0.019517  0.012539     0.026152  0.220322\n",
            "14           0.033766  0.022702     0.029554  0.516172\n",
            "15           0.025674  0.023143     0.025557  0.292045\n",
            "16           0.003369  0.002221     0.006903  0.071752\n",
            "17           0.052034  0.007381     0.032004  1.365887\n",
            "18           0.066313  0.015811     0.074007  1.345678\n",
            "19           0.014630  0.008183     0.018551  0.164481\n",
            "20           0.002307  0.002284     0.009940  0.027284\n",
            "21           0.015462  0.010719     0.029761  0.174554\n",
            "22           0.029529  0.012508     0.033980  0.254550\n"
          ],
          "name": "stdout"
        }
      ]
    },
    {
      "cell_type": "code",
      "metadata": {
        "id": "AwIY-rRR56pu"
      },
      "source": [
        "#Functions for mean and std for each feature\n",
        "def mean_EAR(Participant):\n",
        "    return df_means.loc[Participant][\"EAR\"]\n",
        "\n",
        "def mean_MAR(Participant):\n",
        "    return df_means.loc[Participant][\"MAR\"]\n",
        "\n",
        "def mean_Circularity(Participant):\n",
        "    return df_means.loc[Participant][\"Circularity\"]\n",
        "\n",
        "def mean_MOE(Participant):\n",
        "    return df_means.loc[Participant][\"MOE\"]\n",
        "\n",
        "\n",
        "def std_EAR(Participant):\n",
        "    return df_std.loc[Participant][\"EAR\"]\n",
        "\n",
        "def std_MAR(respondent):\n",
        "    return df_std.loc[respondent][\"MAR\"]\n",
        "\n",
        "def std_Circularity(respondent):\n",
        "    return df_std.loc[respondent][\"Circularity\"]\n",
        "\n",
        "def std_MOE(respondent):\n",
        "    return df_std.loc[respondent][\"MOE\"]"
      ],
      "execution_count": null,
      "outputs": []
    },
    {
      "cell_type": "code",
      "metadata": {
        "id": "n2odGF1K5-Yz",
        "colab": {
          "base_uri": "https://localhost:8080/",
          "height": 1000
        },
        "outputId": "765ff0cb-7ec8-4fcd-eb04-8fec8d487169"
      },
      "source": [
        "#Adding respondent-wise mean and std for each feature to each row in the original dataframe\n",
        "df_total[\"EAR_mean\"] = df_total[\"Participant\"].apply(mean_EAR)\n",
        "df_total[\"MAR_mean\"] = df_total[\"Participant\"].apply(mean_MAR)\n",
        "df_total[\"Circularity_mean\"] = df_total[\"Participant\"].apply(mean_Circularity)\n",
        "df_total[\"MOE_mean\"] = df_total[\"Participant\"].apply(mean_MOE)\n",
        "\n",
        "df_total[\"EAR_std\"] = df_total[\"Participant\"].apply(std_EAR)\n",
        "df_total[\"MAR_std\"] = df_total[\"Participant\"].apply(std_MAR)\n",
        "df_total[\"Circularity_std\"] = df_total[\"Participant\"].apply(std_Circularity)\n",
        "df_total[\"MOE_std\"] = df_total[\"Participant\"].apply(std_MOE)"
      ],
      "execution_count": null,
      "outputs": [
        {
          "output_type": "error",
          "ename": "KeyError",
          "evalue": "ignored",
          "traceback": [
            "\u001b[0;31m---------------------------------------------------------------------------\u001b[0m",
            "\u001b[0;31mKeyError\u001b[0m                                  Traceback (most recent call last)",
            "\u001b[0;32m/usr/local/lib/python3.7/dist-packages/pandas/core/indexes/base.py\u001b[0m in \u001b[0;36mget_loc\u001b[0;34m(self, key, method, tolerance)\u001b[0m\n\u001b[1;32m   2897\u001b[0m             \u001b[0;32mtry\u001b[0m\u001b[0;34m:\u001b[0m\u001b[0;34m\u001b[0m\u001b[0;34m\u001b[0m\u001b[0m\n\u001b[0;32m-> 2898\u001b[0;31m                 \u001b[0;32mreturn\u001b[0m \u001b[0mself\u001b[0m\u001b[0;34m.\u001b[0m\u001b[0m_engine\u001b[0m\u001b[0;34m.\u001b[0m\u001b[0mget_loc\u001b[0m\u001b[0;34m(\u001b[0m\u001b[0mcasted_key\u001b[0m\u001b[0;34m)\u001b[0m\u001b[0;34m\u001b[0m\u001b[0;34m\u001b[0m\u001b[0m\n\u001b[0m\u001b[1;32m   2899\u001b[0m             \u001b[0;32mexcept\u001b[0m \u001b[0mKeyError\u001b[0m \u001b[0;32mas\u001b[0m \u001b[0merr\u001b[0m\u001b[0;34m:\u001b[0m\u001b[0;34m\u001b[0m\u001b[0;34m\u001b[0m\u001b[0m\n",
            "\u001b[0;32mpandas/_libs/index.pyx\u001b[0m in \u001b[0;36mpandas._libs.index.IndexEngine.get_loc\u001b[0;34m()\u001b[0m\n",
            "\u001b[0;32mpandas/_libs/index.pyx\u001b[0m in \u001b[0;36mpandas._libs.index.IndexEngine.get_loc\u001b[0;34m()\u001b[0m\n",
            "\u001b[0;32mpandas/_libs/hashtable_class_helper.pxi\u001b[0m in \u001b[0;36mpandas._libs.hashtable.Int64HashTable.get_item\u001b[0;34m()\u001b[0m\n",
            "\u001b[0;32mpandas/_libs/hashtable_class_helper.pxi\u001b[0m in \u001b[0;36mpandas._libs.hashtable.Int64HashTable.get_item\u001b[0;34m()\u001b[0m\n",
            "\u001b[0;31mKeyError\u001b[0m: 6",
            "\nThe above exception was the direct cause of the following exception:\n",
            "\u001b[0;31mKeyError\u001b[0m                                  Traceback (most recent call last)",
            "\u001b[0;32m<ipython-input-12-a784a2b86122>\u001b[0m in \u001b[0;36m<module>\u001b[0;34m()\u001b[0m\n\u001b[1;32m      1\u001b[0m \u001b[0;31m#Adding respondent-wise mean and std for each feature to each row in the original dataframe\u001b[0m\u001b[0;34m\u001b[0m\u001b[0;34m\u001b[0m\u001b[0;34m\u001b[0m\u001b[0m\n\u001b[0;32m----> 2\u001b[0;31m \u001b[0mdf_total\u001b[0m\u001b[0;34m[\u001b[0m\u001b[0;34m\"EAR_mean\"\u001b[0m\u001b[0;34m]\u001b[0m \u001b[0;34m=\u001b[0m \u001b[0mdf_total\u001b[0m\u001b[0;34m[\u001b[0m\u001b[0;34m\"Participant\"\u001b[0m\u001b[0;34m]\u001b[0m\u001b[0;34m.\u001b[0m\u001b[0mapply\u001b[0m\u001b[0;34m(\u001b[0m\u001b[0mmean_EAR\u001b[0m\u001b[0;34m)\u001b[0m\u001b[0;34m\u001b[0m\u001b[0;34m\u001b[0m\u001b[0m\n\u001b[0m\u001b[1;32m      3\u001b[0m \u001b[0mdf_total\u001b[0m\u001b[0;34m[\u001b[0m\u001b[0;34m\"MAR_mean\"\u001b[0m\u001b[0;34m]\u001b[0m \u001b[0;34m=\u001b[0m \u001b[0mdf_total\u001b[0m\u001b[0;34m[\u001b[0m\u001b[0;34m\"Participant\"\u001b[0m\u001b[0;34m]\u001b[0m\u001b[0;34m.\u001b[0m\u001b[0mapply\u001b[0m\u001b[0;34m(\u001b[0m\u001b[0mmean_MAR\u001b[0m\u001b[0;34m)\u001b[0m\u001b[0;34m\u001b[0m\u001b[0;34m\u001b[0m\u001b[0m\n\u001b[1;32m      4\u001b[0m \u001b[0mdf_total\u001b[0m\u001b[0;34m[\u001b[0m\u001b[0;34m\"Circularity_mean\"\u001b[0m\u001b[0;34m]\u001b[0m \u001b[0;34m=\u001b[0m \u001b[0mdf_total\u001b[0m\u001b[0;34m[\u001b[0m\u001b[0;34m\"Participant\"\u001b[0m\u001b[0;34m]\u001b[0m\u001b[0;34m.\u001b[0m\u001b[0mapply\u001b[0m\u001b[0;34m(\u001b[0m\u001b[0mmean_Circularity\u001b[0m\u001b[0;34m)\u001b[0m\u001b[0;34m\u001b[0m\u001b[0;34m\u001b[0m\u001b[0m\n\u001b[1;32m      5\u001b[0m \u001b[0mdf_total\u001b[0m\u001b[0;34m[\u001b[0m\u001b[0;34m\"MOE_mean\"\u001b[0m\u001b[0;34m]\u001b[0m \u001b[0;34m=\u001b[0m \u001b[0mdf_total\u001b[0m\u001b[0;34m[\u001b[0m\u001b[0;34m\"Participant\"\u001b[0m\u001b[0;34m]\u001b[0m\u001b[0;34m.\u001b[0m\u001b[0mapply\u001b[0m\u001b[0;34m(\u001b[0m\u001b[0mmean_MOE\u001b[0m\u001b[0;34m)\u001b[0m\u001b[0;34m\u001b[0m\u001b[0;34m\u001b[0m\u001b[0m\n",
            "\u001b[0;32m/usr/local/lib/python3.7/dist-packages/pandas/core/series.py\u001b[0m in \u001b[0;36mapply\u001b[0;34m(self, func, convert_dtype, args, **kwds)\u001b[0m\n\u001b[1;32m   4211\u001b[0m             \u001b[0;32melse\u001b[0m\u001b[0;34m:\u001b[0m\u001b[0;34m\u001b[0m\u001b[0;34m\u001b[0m\u001b[0m\n\u001b[1;32m   4212\u001b[0m                 \u001b[0mvalues\u001b[0m \u001b[0;34m=\u001b[0m \u001b[0mself\u001b[0m\u001b[0;34m.\u001b[0m\u001b[0mastype\u001b[0m\u001b[0;34m(\u001b[0m\u001b[0mobject\u001b[0m\u001b[0;34m)\u001b[0m\u001b[0;34m.\u001b[0m\u001b[0m_values\u001b[0m\u001b[0;34m\u001b[0m\u001b[0;34m\u001b[0m\u001b[0m\n\u001b[0;32m-> 4213\u001b[0;31m                 \u001b[0mmapped\u001b[0m \u001b[0;34m=\u001b[0m \u001b[0mlib\u001b[0m\u001b[0;34m.\u001b[0m\u001b[0mmap_infer\u001b[0m\u001b[0;34m(\u001b[0m\u001b[0mvalues\u001b[0m\u001b[0;34m,\u001b[0m \u001b[0mf\u001b[0m\u001b[0;34m,\u001b[0m \u001b[0mconvert\u001b[0m\u001b[0;34m=\u001b[0m\u001b[0mconvert_dtype\u001b[0m\u001b[0;34m)\u001b[0m\u001b[0;34m\u001b[0m\u001b[0;34m\u001b[0m\u001b[0m\n\u001b[0m\u001b[1;32m   4214\u001b[0m \u001b[0;34m\u001b[0m\u001b[0m\n\u001b[1;32m   4215\u001b[0m         \u001b[0;32mif\u001b[0m \u001b[0mlen\u001b[0m\u001b[0;34m(\u001b[0m\u001b[0mmapped\u001b[0m\u001b[0;34m)\u001b[0m \u001b[0;32mand\u001b[0m \u001b[0misinstance\u001b[0m\u001b[0;34m(\u001b[0m\u001b[0mmapped\u001b[0m\u001b[0;34m[\u001b[0m\u001b[0;36m0\u001b[0m\u001b[0;34m]\u001b[0m\u001b[0;34m,\u001b[0m \u001b[0mSeries\u001b[0m\u001b[0;34m)\u001b[0m\u001b[0;34m:\u001b[0m\u001b[0;34m\u001b[0m\u001b[0;34m\u001b[0m\u001b[0m\n",
            "\u001b[0;32mpandas/_libs/lib.pyx\u001b[0m in \u001b[0;36mpandas._libs.lib.map_infer\u001b[0;34m()\u001b[0m\n",
            "\u001b[0;32m<ipython-input-11-cdcca3fa3c60>\u001b[0m in \u001b[0;36mmean_EAR\u001b[0;34m(Participant)\u001b[0m\n\u001b[1;32m      1\u001b[0m \u001b[0;31m#Functions for mean and std for each feature\u001b[0m\u001b[0;34m\u001b[0m\u001b[0;34m\u001b[0m\u001b[0;34m\u001b[0m\u001b[0m\n\u001b[1;32m      2\u001b[0m \u001b[0;32mdef\u001b[0m \u001b[0mmean_EAR\u001b[0m\u001b[0;34m(\u001b[0m\u001b[0mParticipant\u001b[0m\u001b[0;34m)\u001b[0m\u001b[0;34m:\u001b[0m\u001b[0;34m\u001b[0m\u001b[0;34m\u001b[0m\u001b[0m\n\u001b[0;32m----> 3\u001b[0;31m     \u001b[0;32mreturn\u001b[0m \u001b[0mdf_means\u001b[0m\u001b[0;34m.\u001b[0m\u001b[0mloc\u001b[0m\u001b[0;34m[\u001b[0m\u001b[0mParticipant\u001b[0m\u001b[0;34m]\u001b[0m\u001b[0;34m[\u001b[0m\u001b[0;34m\"EAR\"\u001b[0m\u001b[0;34m]\u001b[0m\u001b[0;34m\u001b[0m\u001b[0;34m\u001b[0m\u001b[0m\n\u001b[0m\u001b[1;32m      4\u001b[0m \u001b[0;34m\u001b[0m\u001b[0m\n\u001b[1;32m      5\u001b[0m \u001b[0;32mdef\u001b[0m \u001b[0mmean_MAR\u001b[0m\u001b[0;34m(\u001b[0m\u001b[0mParticipant\u001b[0m\u001b[0;34m)\u001b[0m\u001b[0;34m:\u001b[0m\u001b[0;34m\u001b[0m\u001b[0;34m\u001b[0m\u001b[0m\n",
            "\u001b[0;32m/usr/local/lib/python3.7/dist-packages/pandas/core/indexing.py\u001b[0m in \u001b[0;36m__getitem__\u001b[0;34m(self, key)\u001b[0m\n\u001b[1;32m    877\u001b[0m \u001b[0;34m\u001b[0m\u001b[0m\n\u001b[1;32m    878\u001b[0m             \u001b[0mmaybe_callable\u001b[0m \u001b[0;34m=\u001b[0m \u001b[0mcom\u001b[0m\u001b[0;34m.\u001b[0m\u001b[0mapply_if_callable\u001b[0m\u001b[0;34m(\u001b[0m\u001b[0mkey\u001b[0m\u001b[0;34m,\u001b[0m \u001b[0mself\u001b[0m\u001b[0;34m.\u001b[0m\u001b[0mobj\u001b[0m\u001b[0;34m)\u001b[0m\u001b[0;34m\u001b[0m\u001b[0;34m\u001b[0m\u001b[0m\n\u001b[0;32m--> 879\u001b[0;31m             \u001b[0;32mreturn\u001b[0m \u001b[0mself\u001b[0m\u001b[0;34m.\u001b[0m\u001b[0m_getitem_axis\u001b[0m\u001b[0;34m(\u001b[0m\u001b[0mmaybe_callable\u001b[0m\u001b[0;34m,\u001b[0m \u001b[0maxis\u001b[0m\u001b[0;34m=\u001b[0m\u001b[0maxis\u001b[0m\u001b[0;34m)\u001b[0m\u001b[0;34m\u001b[0m\u001b[0;34m\u001b[0m\u001b[0m\n\u001b[0m\u001b[1;32m    880\u001b[0m \u001b[0;34m\u001b[0m\u001b[0m\n\u001b[1;32m    881\u001b[0m     \u001b[0;32mdef\u001b[0m \u001b[0m_is_scalar_access\u001b[0m\u001b[0;34m(\u001b[0m\u001b[0mself\u001b[0m\u001b[0;34m,\u001b[0m \u001b[0mkey\u001b[0m\u001b[0;34m:\u001b[0m \u001b[0mTuple\u001b[0m\u001b[0;34m)\u001b[0m\u001b[0;34m:\u001b[0m\u001b[0;34m\u001b[0m\u001b[0;34m\u001b[0m\u001b[0m\n",
            "\u001b[0;32m/usr/local/lib/python3.7/dist-packages/pandas/core/indexing.py\u001b[0m in \u001b[0;36m_getitem_axis\u001b[0;34m(self, key, axis)\u001b[0m\n\u001b[1;32m   1108\u001b[0m         \u001b[0;31m# fall thru to straight lookup\u001b[0m\u001b[0;34m\u001b[0m\u001b[0;34m\u001b[0m\u001b[0;34m\u001b[0m\u001b[0m\n\u001b[1;32m   1109\u001b[0m         \u001b[0mself\u001b[0m\u001b[0;34m.\u001b[0m\u001b[0m_validate_key\u001b[0m\u001b[0;34m(\u001b[0m\u001b[0mkey\u001b[0m\u001b[0;34m,\u001b[0m \u001b[0maxis\u001b[0m\u001b[0;34m)\u001b[0m\u001b[0;34m\u001b[0m\u001b[0;34m\u001b[0m\u001b[0m\n\u001b[0;32m-> 1110\u001b[0;31m         \u001b[0;32mreturn\u001b[0m \u001b[0mself\u001b[0m\u001b[0;34m.\u001b[0m\u001b[0m_get_label\u001b[0m\u001b[0;34m(\u001b[0m\u001b[0mkey\u001b[0m\u001b[0;34m,\u001b[0m \u001b[0maxis\u001b[0m\u001b[0;34m=\u001b[0m\u001b[0maxis\u001b[0m\u001b[0;34m)\u001b[0m\u001b[0;34m\u001b[0m\u001b[0;34m\u001b[0m\u001b[0m\n\u001b[0m\u001b[1;32m   1111\u001b[0m \u001b[0;34m\u001b[0m\u001b[0m\n\u001b[1;32m   1112\u001b[0m     \u001b[0;32mdef\u001b[0m \u001b[0m_get_slice_axis\u001b[0m\u001b[0;34m(\u001b[0m\u001b[0mself\u001b[0m\u001b[0;34m,\u001b[0m \u001b[0mslice_obj\u001b[0m\u001b[0;34m:\u001b[0m \u001b[0mslice\u001b[0m\u001b[0;34m,\u001b[0m \u001b[0maxis\u001b[0m\u001b[0;34m:\u001b[0m \u001b[0mint\u001b[0m\u001b[0;34m)\u001b[0m\u001b[0;34m:\u001b[0m\u001b[0;34m\u001b[0m\u001b[0;34m\u001b[0m\u001b[0m\n",
            "\u001b[0;32m/usr/local/lib/python3.7/dist-packages/pandas/core/indexing.py\u001b[0m in \u001b[0;36m_get_label\u001b[0;34m(self, label, axis)\u001b[0m\n\u001b[1;32m   1057\u001b[0m     \u001b[0;32mdef\u001b[0m \u001b[0m_get_label\u001b[0m\u001b[0;34m(\u001b[0m\u001b[0mself\u001b[0m\u001b[0;34m,\u001b[0m \u001b[0mlabel\u001b[0m\u001b[0;34m,\u001b[0m \u001b[0maxis\u001b[0m\u001b[0;34m:\u001b[0m \u001b[0mint\u001b[0m\u001b[0;34m)\u001b[0m\u001b[0;34m:\u001b[0m\u001b[0;34m\u001b[0m\u001b[0;34m\u001b[0m\u001b[0m\n\u001b[1;32m   1058\u001b[0m         \u001b[0;31m# GH#5667 this will fail if the label is not present in the axis.\u001b[0m\u001b[0;34m\u001b[0m\u001b[0;34m\u001b[0m\u001b[0;34m\u001b[0m\u001b[0m\n\u001b[0;32m-> 1059\u001b[0;31m         \u001b[0;32mreturn\u001b[0m \u001b[0mself\u001b[0m\u001b[0;34m.\u001b[0m\u001b[0mobj\u001b[0m\u001b[0;34m.\u001b[0m\u001b[0mxs\u001b[0m\u001b[0;34m(\u001b[0m\u001b[0mlabel\u001b[0m\u001b[0;34m,\u001b[0m \u001b[0maxis\u001b[0m\u001b[0;34m=\u001b[0m\u001b[0maxis\u001b[0m\u001b[0;34m)\u001b[0m\u001b[0;34m\u001b[0m\u001b[0;34m\u001b[0m\u001b[0m\n\u001b[0m\u001b[1;32m   1060\u001b[0m \u001b[0;34m\u001b[0m\u001b[0m\n\u001b[1;32m   1061\u001b[0m     \u001b[0;32mdef\u001b[0m \u001b[0m_handle_lowerdim_multi_index_axis0\u001b[0m\u001b[0;34m(\u001b[0m\u001b[0mself\u001b[0m\u001b[0;34m,\u001b[0m \u001b[0mtup\u001b[0m\u001b[0;34m:\u001b[0m \u001b[0mTuple\u001b[0m\u001b[0;34m)\u001b[0m\u001b[0;34m:\u001b[0m\u001b[0;34m\u001b[0m\u001b[0;34m\u001b[0m\u001b[0m\n",
            "\u001b[0;32m/usr/local/lib/python3.7/dist-packages/pandas/core/generic.py\u001b[0m in \u001b[0;36mxs\u001b[0;34m(self, key, axis, level, drop_level)\u001b[0m\n\u001b[1;32m   3491\u001b[0m             \u001b[0mloc\u001b[0m\u001b[0;34m,\u001b[0m \u001b[0mnew_index\u001b[0m \u001b[0;34m=\u001b[0m \u001b[0mself\u001b[0m\u001b[0;34m.\u001b[0m\u001b[0mindex\u001b[0m\u001b[0;34m.\u001b[0m\u001b[0mget_loc_level\u001b[0m\u001b[0;34m(\u001b[0m\u001b[0mkey\u001b[0m\u001b[0;34m,\u001b[0m \u001b[0mdrop_level\u001b[0m\u001b[0;34m=\u001b[0m\u001b[0mdrop_level\u001b[0m\u001b[0;34m)\u001b[0m\u001b[0;34m\u001b[0m\u001b[0;34m\u001b[0m\u001b[0m\n\u001b[1;32m   3492\u001b[0m         \u001b[0;32melse\u001b[0m\u001b[0;34m:\u001b[0m\u001b[0;34m\u001b[0m\u001b[0;34m\u001b[0m\u001b[0m\n\u001b[0;32m-> 3493\u001b[0;31m             \u001b[0mloc\u001b[0m \u001b[0;34m=\u001b[0m \u001b[0mself\u001b[0m\u001b[0;34m.\u001b[0m\u001b[0mindex\u001b[0m\u001b[0;34m.\u001b[0m\u001b[0mget_loc\u001b[0m\u001b[0;34m(\u001b[0m\u001b[0mkey\u001b[0m\u001b[0;34m)\u001b[0m\u001b[0;34m\u001b[0m\u001b[0;34m\u001b[0m\u001b[0m\n\u001b[0m\u001b[1;32m   3494\u001b[0m \u001b[0;34m\u001b[0m\u001b[0m\n\u001b[1;32m   3495\u001b[0m             \u001b[0;32mif\u001b[0m \u001b[0misinstance\u001b[0m\u001b[0;34m(\u001b[0m\u001b[0mloc\u001b[0m\u001b[0;34m,\u001b[0m \u001b[0mnp\u001b[0m\u001b[0;34m.\u001b[0m\u001b[0mndarray\u001b[0m\u001b[0;34m)\u001b[0m\u001b[0;34m:\u001b[0m\u001b[0;34m\u001b[0m\u001b[0;34m\u001b[0m\u001b[0m\n",
            "\u001b[0;32m/usr/local/lib/python3.7/dist-packages/pandas/core/indexes/base.py\u001b[0m in \u001b[0;36mget_loc\u001b[0;34m(self, key, method, tolerance)\u001b[0m\n\u001b[1;32m   2898\u001b[0m                 \u001b[0;32mreturn\u001b[0m \u001b[0mself\u001b[0m\u001b[0;34m.\u001b[0m\u001b[0m_engine\u001b[0m\u001b[0;34m.\u001b[0m\u001b[0mget_loc\u001b[0m\u001b[0;34m(\u001b[0m\u001b[0mcasted_key\u001b[0m\u001b[0;34m)\u001b[0m\u001b[0;34m\u001b[0m\u001b[0;34m\u001b[0m\u001b[0m\n\u001b[1;32m   2899\u001b[0m             \u001b[0;32mexcept\u001b[0m \u001b[0mKeyError\u001b[0m \u001b[0;32mas\u001b[0m \u001b[0merr\u001b[0m\u001b[0;34m:\u001b[0m\u001b[0;34m\u001b[0m\u001b[0;34m\u001b[0m\u001b[0m\n\u001b[0;32m-> 2900\u001b[0;31m                 \u001b[0;32mraise\u001b[0m \u001b[0mKeyError\u001b[0m\u001b[0;34m(\u001b[0m\u001b[0mkey\u001b[0m\u001b[0;34m)\u001b[0m \u001b[0;32mfrom\u001b[0m \u001b[0merr\u001b[0m\u001b[0;34m\u001b[0m\u001b[0;34m\u001b[0m\u001b[0m\n\u001b[0m\u001b[1;32m   2901\u001b[0m \u001b[0;34m\u001b[0m\u001b[0m\n\u001b[1;32m   2902\u001b[0m         \u001b[0;32mif\u001b[0m \u001b[0mtolerance\u001b[0m \u001b[0;32mis\u001b[0m \u001b[0;32mnot\u001b[0m \u001b[0;32mNone\u001b[0m\u001b[0;34m:\u001b[0m\u001b[0;34m\u001b[0m\u001b[0;34m\u001b[0m\u001b[0m\n",
            "\u001b[0;31mKeyError\u001b[0m: 6"
          ]
        }
      ]
    },
    {
      "cell_type": "code",
      "metadata": {
        "id": "czkQmSAb6Bk7"
      },
      "source": [
        "#Calculating normalised features for each row in the original dataframe\n",
        "df_total[\"EAR_N\"] = (df_total[\"EAR\"]-df_total[\"EAR_mean\"])/ df_total[\"EAR_std\"]\n",
        "df_total[\"MAR_N\"] = (df_total[\"MAR\"]-df_total[\"MAR_mean\"])/ df_total[\"MAR_std\"]\n",
        "df_total[\"Circularity_N\"] = (df_total[\"Circularity\"]-df_total[\"Circularity_mean\"])/ df_total[\"Circularity_std\"]\n",
        "df_total[\"MOE_N\"] = (df_total[\"MOE\"]-df_total[\"MOE_mean\"])/ df_total[\"MOE_std\"]"
      ],
      "execution_count": null,
      "outputs": []
    },
    {
      "cell_type": "code",
      "metadata": {
        "id": "D4ae9Osv6Dmk"
      },
      "source": [
        "#Saving the file to a CSV with all the information\n",
        "df_total.to_csv('totalwithallinfo.csv',index=False)"
      ],
      "execution_count": null,
      "outputs": []
    },
    {
      "cell_type": "code",
      "metadata": {
        "id": "3f3CM3Qv6Gon"
      },
      "source": [
        "#Saving the file to a CSV with all the information\n",
        "df_main = df_total.drop([\"EAR_mean\",\"MAR_mean\",\"Circularity_mean\",\"MOE_mean\",\"EAR_std\",\"MAR_std\",\"Circularity_std\",\"MOE_std\"],axis=1)\n",
        "df_main.to_csv('totalwithmaininfo.csv',index=False)"
      ],
      "execution_count": null,
      "outputs": []
    },
    {
      "cell_type": "code",
      "metadata": {
        "id": "KpkWV72E3qF5"
      },
      "source": [
        "# df_total.to_csv(r'data_drowsiness\\prepared\\totalwithallinfo.csv',index=False)\n",
        "# #Saving the file to a CSV with all the information\n",
        "# df_main = df_total.drop([\"EAR_mean\",\"MAR_mean\", \"Circularity_mean\", \"MOE_mean\", \"EAR_std\", \"MAR_std\", \"Circularity_std\", \"MOE_std\"], axis=1)\n",
        "# df_main.to_csv(r'data_drowsiness\\prepared\\totalwithmaininfo.csv',index=False)"
      ],
      "execution_count": null,
      "outputs": []
    }
  ]
}