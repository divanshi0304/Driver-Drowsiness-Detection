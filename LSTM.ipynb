{
  "nbformat": 4,
  "nbformat_minor": 0,
  "metadata": {
    "colab": {
      "name": "Driver_Drowsiness.ipynb",
      "provenance": [],
      "collapsed_sections": [],
      "toc_visible": true
    },
    "kernelspec": {
      "name": "python3",
      "display_name": "Python 3"
    },
    "language_info": {
      "name": "python"
    },
    "accelerator": "GPU"
  },
  "cells": [
    {
      "cell_type": "code",
      "metadata": {
        "id": "D7yr6s9vzxYS"
      },
      "source": [
        "import pandas as pd\n",
        "from sklearn.model_selection import train_test_split\n",
        "import numpy as np\n",
        "import matplotlib.pyplot as plt\n",
        "import seaborn as sns\n",
        "from sklearn.pipeline import Pipeline, FeatureUnion\n",
        "import warnings"
      ],
      "execution_count": null,
      "outputs": []
    },
    {
      "cell_type": "code",
      "metadata": {
        "id": "0WMutzYYFIWy"
      },
      "source": [
        ""
      ],
      "execution_count": null,
      "outputs": []
    },
    {
      "cell_type": "code",
      "metadata": {
        "colab": {
          "base_uri": "https://localhost:8080/"
        },
        "id": "9Sphfazja8-c",
        "outputId": "72f78b78-e3a4-495d-e83a-da4de84701ee"
      },
      "source": [
        "from google.colab import drive\n",
        "drive.mount('/content/drive')"
      ],
      "execution_count": null,
      "outputs": [
        {
          "output_type": "stream",
          "text": [
            "Drive already mounted at /content/drive; to attempt to forcibly remount, call drive.mount(\"/content/drive\", force_remount=True).\n"
          ],
          "name": "stdout"
        }
      ]
    },
    {
      "cell_type": "code",
      "metadata": {
        "id": "Bz33hVyDbCMN"
      },
      "source": [
        "df = pd.read_csv('/content/drive/MyDrive/Colab Notebooks/totalwithmaininfo.csv',sep=',')"
      ],
      "execution_count": null,
      "outputs": []
    },
    {
      "cell_type": "code",
      "metadata": {
        "colab": {
          "base_uri": "https://localhost:8080/",
          "height": 203
        },
        "id": "2yWhzufRhFki",
        "outputId": "338c662b-c829-42e8-b699-6b1084c4dfae"
      },
      "source": [
        "df.head()"
      ],
      "execution_count": null,
      "outputs": [
        {
          "output_type": "execute_result",
          "data": {
            "text/html": [
              "<div>\n",
              "<style scoped>\n",
              "    .dataframe tbody tr th:only-of-type {\n",
              "        vertical-align: middle;\n",
              "    }\n",
              "\n",
              "    .dataframe tbody tr th {\n",
              "        vertical-align: top;\n",
              "    }\n",
              "\n",
              "    .dataframe thead th {\n",
              "        text-align: right;\n",
              "    }\n",
              "</style>\n",
              "<table border=\"1\" class=\"dataframe\">\n",
              "  <thead>\n",
              "    <tr style=\"text-align: right;\">\n",
              "      <th></th>\n",
              "      <th>Participant</th>\n",
              "      <th>Y</th>\n",
              "      <th>MOE</th>\n",
              "      <th>EAR</th>\n",
              "      <th>MAR</th>\n",
              "      <th>Circularity</th>\n",
              "      <th>EAR_N</th>\n",
              "      <th>MAR_N</th>\n",
              "      <th>Circularity_N</th>\n",
              "      <th>MOE_N</th>\n",
              "    </tr>\n",
              "  </thead>\n",
              "  <tbody>\n",
              "    <tr>\n",
              "      <th>9732</th>\n",
              "      <td>21</td>\n",
              "      <td>0</td>\n",
              "      <td>3.183684</td>\n",
              "      <td>0.277743</td>\n",
              "      <td>0.884245</td>\n",
              "      <td>0.403793</td>\n",
              "      <td>0.027195</td>\n",
              "      <td>3.714902</td>\n",
              "      <td>-0.442054</td>\n",
              "      <td>0.634260</td>\n",
              "    </tr>\n",
              "    <tr>\n",
              "      <th>439</th>\n",
              "      <td>1</td>\n",
              "      <td>0</td>\n",
              "      <td>3.548000</td>\n",
              "      <td>0.269466</td>\n",
              "      <td>0.956065</td>\n",
              "      <td>0.422703</td>\n",
              "      <td>0.483004</td>\n",
              "      <td>-1.553248</td>\n",
              "      <td>1.079168</td>\n",
              "      <td>-0.791285</td>\n",
              "    </tr>\n",
              "    <tr>\n",
              "      <th>8682</th>\n",
              "      <td>19</td>\n",
              "      <td>10</td>\n",
              "      <td>2.969215</td>\n",
              "      <td>0.321463</td>\n",
              "      <td>0.954494</td>\n",
              "      <td>0.446549</td>\n",
              "      <td>0.472196</td>\n",
              "      <td>-0.013333</td>\n",
              "      <td>-0.560756</td>\n",
              "      <td>-0.402122</td>\n",
              "    </tr>\n",
              "    <tr>\n",
              "      <th>10406</th>\n",
              "      <td>22</td>\n",
              "      <td>10</td>\n",
              "      <td>2.268116</td>\n",
              "      <td>0.350611</td>\n",
              "      <td>0.795226</td>\n",
              "      <td>0.520463</td>\n",
              "      <td>1.692324</td>\n",
              "      <td>-0.115952</td>\n",
              "      <td>3.129688</td>\n",
              "      <td>-2.349882</td>\n",
              "    </tr>\n",
              "    <tr>\n",
              "      <th>890</th>\n",
              "      <td>2</td>\n",
              "      <td>10</td>\n",
              "      <td>5.196763</td>\n",
              "      <td>0.202040</td>\n",
              "      <td>1.049952</td>\n",
              "      <td>0.391874</td>\n",
              "      <td>-3.678171</td>\n",
              "      <td>0.314573</td>\n",
              "      <td>-2.921749</td>\n",
              "      <td>5.171706</td>\n",
              "    </tr>\n",
              "  </tbody>\n",
              "</table>\n",
              "</div>"
            ],
            "text/plain": [
              "       Participant   Y       MOE  ...     MAR_N  Circularity_N     MOE_N\n",
              "9732            21   0  3.183684  ...  3.714902      -0.442054  0.634260\n",
              "439              1   0  3.548000  ... -1.553248       1.079168 -0.791285\n",
              "8682            19  10  2.969215  ... -0.013333      -0.560756 -0.402122\n",
              "10406           22  10  2.268116  ... -0.115952       3.129688 -2.349882\n",
              "890              2  10  5.196763  ...  0.314573      -2.921749  5.171706\n",
              "\n",
              "[5 rows x 10 columns]"
            ]
          },
          "metadata": {
            "tags": []
          },
          "execution_count": 204
        }
      ]
    },
    {
      "cell_type": "code",
      "metadata": {
        "colab": {
          "base_uri": "https://localhost:8080/"
        },
        "id": "eXZ3FTeYkUqR",
        "outputId": "d081edb5-8435-4eda-abee-c518ddc2ace8"
      },
      "source": [
        "df.shape"
      ],
      "execution_count": null,
      "outputs": [
        {
          "output_type": "execute_result",
          "data": {
            "text/plain": [
              "(10560, 10)"
            ]
          },
          "metadata": {
            "tags": []
          },
          "execution_count": 205
        }
      ]
    },
    {
      "cell_type": "code",
      "metadata": {
        "id": "7dQVvEjSvi_m"
      },
      "source": [
        "df=df.drop(df.columns[0], axis=1)\n",
        "df.loc[df.Y == 0.0, \"Y\"] = int(0)\n",
        "df.loc[df.Y == 10.0, \"Y\"] = int(1)"
      ],
      "execution_count": null,
      "outputs": []
    },
    {
      "cell_type": "code",
      "metadata": {
        "colab": {
          "base_uri": "https://localhost:8080/",
          "height": 203
        },
        "id": "BqFd2ulIvkh3",
        "outputId": "e964f384-8427-40fc-d54e-55ba6c1a2827"
      },
      "source": [
        "df.head()"
      ],
      "execution_count": null,
      "outputs": [
        {
          "output_type": "execute_result",
          "data": {
            "text/html": [
              "<div>\n",
              "<style scoped>\n",
              "    .dataframe tbody tr th:only-of-type {\n",
              "        vertical-align: middle;\n",
              "    }\n",
              "\n",
              "    .dataframe tbody tr th {\n",
              "        vertical-align: top;\n",
              "    }\n",
              "\n",
              "    .dataframe thead th {\n",
              "        text-align: right;\n",
              "    }\n",
              "</style>\n",
              "<table border=\"1\" class=\"dataframe\">\n",
              "  <thead>\n",
              "    <tr style=\"text-align: right;\">\n",
              "      <th></th>\n",
              "      <th>Y</th>\n",
              "      <th>MOE</th>\n",
              "      <th>EAR</th>\n",
              "      <th>MAR</th>\n",
              "      <th>Circularity</th>\n",
              "      <th>EAR_N</th>\n",
              "      <th>MAR_N</th>\n",
              "      <th>Circularity_N</th>\n",
              "      <th>MOE_N</th>\n",
              "    </tr>\n",
              "  </thead>\n",
              "  <tbody>\n",
              "    <tr>\n",
              "      <th>9732</th>\n",
              "      <td>0</td>\n",
              "      <td>3.183684</td>\n",
              "      <td>0.277743</td>\n",
              "      <td>0.884245</td>\n",
              "      <td>0.403793</td>\n",
              "      <td>0.027195</td>\n",
              "      <td>3.714902</td>\n",
              "      <td>-0.442054</td>\n",
              "      <td>0.634260</td>\n",
              "    </tr>\n",
              "    <tr>\n",
              "      <th>439</th>\n",
              "      <td>0</td>\n",
              "      <td>3.548000</td>\n",
              "      <td>0.269466</td>\n",
              "      <td>0.956065</td>\n",
              "      <td>0.422703</td>\n",
              "      <td>0.483004</td>\n",
              "      <td>-1.553248</td>\n",
              "      <td>1.079168</td>\n",
              "      <td>-0.791285</td>\n",
              "    </tr>\n",
              "    <tr>\n",
              "      <th>8682</th>\n",
              "      <td>1</td>\n",
              "      <td>2.969215</td>\n",
              "      <td>0.321463</td>\n",
              "      <td>0.954494</td>\n",
              "      <td>0.446549</td>\n",
              "      <td>0.472196</td>\n",
              "      <td>-0.013333</td>\n",
              "      <td>-0.560756</td>\n",
              "      <td>-0.402122</td>\n",
              "    </tr>\n",
              "    <tr>\n",
              "      <th>10406</th>\n",
              "      <td>1</td>\n",
              "      <td>2.268116</td>\n",
              "      <td>0.350611</td>\n",
              "      <td>0.795226</td>\n",
              "      <td>0.520463</td>\n",
              "      <td>1.692324</td>\n",
              "      <td>-0.115952</td>\n",
              "      <td>3.129688</td>\n",
              "      <td>-2.349882</td>\n",
              "    </tr>\n",
              "    <tr>\n",
              "      <th>890</th>\n",
              "      <td>1</td>\n",
              "      <td>5.196763</td>\n",
              "      <td>0.202040</td>\n",
              "      <td>1.049952</td>\n",
              "      <td>0.391874</td>\n",
              "      <td>-3.678171</td>\n",
              "      <td>0.314573</td>\n",
              "      <td>-2.921749</td>\n",
              "      <td>5.171706</td>\n",
              "    </tr>\n",
              "  </tbody>\n",
              "</table>\n",
              "</div>"
            ],
            "text/plain": [
              "       Y       MOE       EAR  ...     MAR_N  Circularity_N     MOE_N\n",
              "9732   0  3.183684  0.277743  ...  3.714902      -0.442054  0.634260\n",
              "439    0  3.548000  0.269466  ... -1.553248       1.079168 -0.791285\n",
              "8682   1  2.969215  0.321463  ... -0.013333      -0.560756 -0.402122\n",
              "10406  1  2.268116  0.350611  ... -0.115952       3.129688 -2.349882\n",
              "890    1  5.196763  0.202040  ...  0.314573      -2.921749  5.171706\n",
              "\n",
              "[5 rows x 9 columns]"
            ]
          },
          "metadata": {
            "tags": []
          },
          "execution_count": 207
        }
      ]
    },
    {
      "cell_type": "code",
      "metadata": {
        "id": "y6YOuUJEcjjW"
      },
      "source": [
        "train_percentage = 17/22\n",
        "train_index = int(len(df)*train_percentage)\n",
        "test_index = len(df)-train_index"
      ],
      "execution_count": null,
      "outputs": []
    },
    {
      "cell_type": "code",
      "metadata": {
        "id": "ObCI-PDUhp8A"
      },
      "source": [
        "df_train = df[:train_index]\n",
        "df_test = df[-test_index:]"
      ],
      "execution_count": null,
      "outputs": []
    },
    {
      "cell_type": "code",
      "metadata": {
        "id": "FZqQ3g2Rhr_J"
      },
      "source": [
        "x_test = df_test.drop([\"Y\"],axis=1)\n",
        "y_test = df_test[\"Y\"]"
      ],
      "execution_count": null,
      "outputs": []
    },
    {
      "cell_type": "code",
      "metadata": {
        "id": "eQDjcyWohuVA"
      },
      "source": [
        "\n",
        "x_train = df_train.drop('Y',axis=1)\n",
        "y_train = df_train['Y']"
      ],
      "execution_count": null,
      "outputs": []
    },
    {
      "cell_type": "code",
      "metadata": {
        "colab": {
          "base_uri": "https://localhost:8080/"
        },
        "id": "Nu2jvJtEq-Zg",
        "outputId": "a9e1e509-e56c-4314-d693-666f85123964"
      },
      "source": [
        "x_test.shape"
      ],
      "execution_count": null,
      "outputs": [
        {
          "output_type": "execute_result",
          "data": {
            "text/plain": [
              "(2400, 8)"
            ]
          },
          "metadata": {
            "tags": []
          },
          "execution_count": 212
        }
      ]
    },
    {
      "cell_type": "code",
      "metadata": {
        "colab": {
          "base_uri": "https://localhost:8080/"
        },
        "id": "hvVRDWRDrM77",
        "outputId": "120ba4f2-5c59-4a36-fcf2-917076d13017"
      },
      "source": [
        "x_train.shape"
      ],
      "execution_count": null,
      "outputs": [
        {
          "output_type": "execute_result",
          "data": {
            "text/plain": [
              "(8160, 8)"
            ]
          },
          "metadata": {
            "tags": []
          },
          "execution_count": 213
        }
      ]
    },
    {
      "cell_type": "code",
      "metadata": {
        "id": "RDW-nBOrh4Tw"
      },
      "source": [
        "import numpy as np\n",
        "x_shaped_train  = np.array(x_train).reshape(1632,5,8)\n",
        "x_shaped_test  = np.array(x_test).reshape(480,5,8)"
      ],
      "execution_count": null,
      "outputs": []
    },
    {
      "cell_type": "code",
      "metadata": {
        "colab": {
          "base_uri": "https://localhost:8080/"
        },
        "id": "xmqaNO5psC_z",
        "outputId": "0475b2b2-b3b7-4118-82a9-d4c2e155d901"
      },
      "source": [
        "y_train = np.array(y_train)\n",
        "y_test = np.array(y_test)\n",
        "\n",
        "y_shaped_train  = []\n",
        "for i in range(0, len(y_train), 5):\n",
        "  y_shaped_train.append([y_train[i]])\n",
        "print(len(y_shaped_train))\n",
        "\n",
        "y_shaped_test  = []\n",
        "for i in range(0, len(y_test), 5):\n",
        "  y_shaped_test.append([y_test[i]])\n",
        "print(len(y_shaped_test))"
      ],
      "execution_count": null,
      "outputs": [
        {
          "output_type": "stream",
          "text": [
            "1632\n",
            "480\n"
          ],
          "name": "stdout"
        }
      ]
    },
    {
      "cell_type": "code",
      "metadata": {
        "colab": {
          "base_uri": "https://localhost:8080/"
        },
        "id": "qr3rqImtsVr2",
        "outputId": "bfc0a6a7-7bdf-42a2-d100-dcde2b014ba9"
      },
      "source": [
        "x_shaped_train.shape"
      ],
      "execution_count": null,
      "outputs": [
        {
          "output_type": "execute_result",
          "data": {
            "text/plain": [
              "(1632, 5, 8)"
            ]
          },
          "metadata": {
            "tags": []
          },
          "execution_count": 216
        }
      ]
    },
    {
      "cell_type": "code",
      "metadata": {
        "colab": {
          "base_uri": "https://localhost:8080/"
        },
        "id": "yUFsrcUOsjwy",
        "outputId": "106556d9-a274-4e40-9fd9-f06fc657a054"
      },
      "source": [
        "x_shaped_test.shape"
      ],
      "execution_count": null,
      "outputs": [
        {
          "output_type": "execute_result",
          "data": {
            "text/plain": [
              "(480, 5, 8)"
            ]
          },
          "metadata": {
            "tags": []
          },
          "execution_count": 217
        }
      ]
    },
    {
      "cell_type": "code",
      "metadata": {
        "colab": {
          "base_uri": "https://localhost:8080/"
        },
        "id": "yxYCuwogsmQL",
        "outputId": "6d99b91d-dd0b-46a7-99dd-8e949d17722c"
      },
      "source": [
        "y_shaped_train = np.array(y_shaped_train)\n",
        "y_shaped_train.shape"
      ],
      "execution_count": null,
      "outputs": [
        {
          "output_type": "execute_result",
          "data": {
            "text/plain": [
              "(1632, 1)"
            ]
          },
          "metadata": {
            "tags": []
          },
          "execution_count": 218
        }
      ]
    },
    {
      "cell_type": "code",
      "metadata": {
        "colab": {
          "base_uri": "https://localhost:8080/"
        },
        "id": "OhbvqIzBz-HI",
        "outputId": "5a63031a-de07-462b-f2f1-03f7030b87af"
      },
      "source": [
        "\n",
        "y_shaped_test = np.array(y_shaped_test)\n",
        "y_shaped_test.shape"
      ],
      "execution_count": null,
      "outputs": [
        {
          "output_type": "execute_result",
          "data": {
            "text/plain": [
              "(480, 1)"
            ]
          },
          "metadata": {
            "tags": []
          },
          "execution_count": 219
        }
      ]
    },
    {
      "cell_type": "code",
      "metadata": {
        "id": "_GsxcUrDsp5a"
      },
      "source": [
        "from keras.utils.np_utils import to_categorical\n",
        "from keras.layers import Dense, Flatten, Dropout, ZeroPadding3D\n",
        "from keras.layers.recurrent import LSTM\n",
        "from keras.models import Sequential, load_model\n",
        "from keras.optimizers import Adam, RMSprop\n",
        "from keras.layers.wrappers import TimeDistributed\n",
        "from keras.layers.convolutional import (Conv2D, MaxPooling3D, Conv3D,\n",
        "    MaxPooling2D)\n",
        "from collections import deque\n",
        "import sys"
      ],
      "execution_count": null,
      "outputs": []
    },
    {
      "cell_type": "code",
      "metadata": {
        "colab": {
          "base_uri": "https://localhost:8080/"
        },
        "id": "h7zGzyoJszES",
        "outputId": "1d8bcc82-6837-42ee-cf51-4261074a7a56"
      },
      "source": [
        "metrics = ['accuracy']\n",
        "model = Sequential()\n",
        "model.add(Dense(1024, activation='sigmoid'))\n",
        "model.add(LSTM(512, return_sequences=True, input_shape=(5, 4,),dropout=0.5))\n",
        "model.add(Flatten())\n",
        "model.add(Dense(216, activation='relu')) #FC1\n",
        "model.add(Dense(32, activation='relu')) #FC2\n",
        "model.add(Dropout(0.5))\n",
        "model.add(Dense(16, activation='tanh'))#FC3\n",
        "model.add(Dropout(0.5))\n",
        "model.add(Dense(1, activation='tanh'))#Output Layer\n",
        "optimizer = Adam(lr=0.00005)\n",
        "model.compile(loss='binary_crossentropy', optimizer=optimizer, metrics=metrics)\n",
        "model.fit(x_shaped_train, y_shaped_train, epochs=50, batch_size=  10, validation_split=0.2)\n",
        "model.predict_classes(x_shaped_test)"
      ],
      "execution_count": null,
      "outputs": [
        {
          "output_type": "stream",
          "text": [
            "Epoch 1/50\n"
          ],
          "name": "stdout"
        },
        {
          "output_type": "stream",
          "text": [
            "/usr/local/lib/python3.7/dist-packages/tensorflow/python/keras/optimizer_v2/optimizer_v2.py:375: UserWarning: The `lr` argument is deprecated, use `learning_rate` instead.\n",
            "  \"The `lr` argument is deprecated, use `learning_rate` instead.\")\n"
          ],
          "name": "stderr"
        },
        {
          "output_type": "stream",
          "text": [
            "131/131 [==============================] - 16s 65ms/step - loss: 2.2550 - accuracy: 0.5139 - val_loss: 0.7277 - val_accuracy: 0.5107\n",
            "Epoch 2/50\n",
            "131/131 [==============================] - 7s 54ms/step - loss: 1.7257 - accuracy: 0.4861 - val_loss: 0.7538 - val_accuracy: 0.5107\n",
            "Epoch 3/50\n",
            "131/131 [==============================] - 7s 52ms/step - loss: 2.1941 - accuracy: 0.4843 - val_loss: 0.8159 - val_accuracy: 0.5107\n",
            "Epoch 4/50\n",
            "131/131 [==============================] - 6s 50ms/step - loss: 2.4116 - accuracy: 0.5244 - val_loss: 0.9828 - val_accuracy: 0.5107\n",
            "Epoch 5/50\n",
            "131/131 [==============================] - 7s 50ms/step - loss: 1.5869 - accuracy: 0.5107 - val_loss: 0.8970 - val_accuracy: 0.5107\n",
            "Epoch 6/50\n",
            "131/131 [==============================] - 7s 50ms/step - loss: 2.2767 - accuracy: 0.5281 - val_loss: 0.9031 - val_accuracy: 0.5107\n",
            "Epoch 7/50\n",
            "131/131 [==============================] - 7s 50ms/step - loss: 1.8376 - accuracy: 0.5096 - val_loss: 0.8381 - val_accuracy: 0.5107\n",
            "Epoch 8/50\n",
            "131/131 [==============================] - 7s 50ms/step - loss: 1.9263 - accuracy: 0.4856 - val_loss: 0.7305 - val_accuracy: 0.5107\n",
            "Epoch 9/50\n",
            "131/131 [==============================] - 7s 55ms/step - loss: 1.7662 - accuracy: 0.5378 - val_loss: 0.7020 - val_accuracy: 0.5107\n",
            "Epoch 10/50\n",
            "131/131 [==============================] - 7s 52ms/step - loss: 1.4970 - accuracy: 0.5225 - val_loss: 0.6952 - val_accuracy: 0.5107\n",
            "Epoch 11/50\n",
            "131/131 [==============================] - 7s 50ms/step - loss: 1.3993 - accuracy: 0.4860 - val_loss: 0.6930 - val_accuracy: 0.5107\n",
            "Epoch 12/50\n",
            "131/131 [==============================] - 6s 48ms/step - loss: 1.4073 - accuracy: 0.4840 - val_loss: 0.6958 - val_accuracy: 0.4893\n",
            "Epoch 13/50\n",
            "131/131 [==============================] - 7s 50ms/step - loss: 1.7452 - accuracy: 0.5056 - val_loss: 0.7934 - val_accuracy: 0.5107\n",
            "Epoch 14/50\n",
            "131/131 [==============================] - 7s 50ms/step - loss: 1.7203 - accuracy: 0.4774 - val_loss: 0.7216 - val_accuracy: 0.5107\n",
            "Epoch 15/50\n",
            "131/131 [==============================] - 6s 50ms/step - loss: 1.3545 - accuracy: 0.5213 - val_loss: 0.6954 - val_accuracy: 0.4954\n",
            "Epoch 16/50\n",
            "131/131 [==============================] - 7s 50ms/step - loss: 1.1946 - accuracy: 0.4538 - val_loss: 0.7208 - val_accuracy: 0.4893\n",
            "Epoch 17/50\n",
            "131/131 [==============================] - 7s 51ms/step - loss: 1.1093 - accuracy: 0.4685 - val_loss: 0.6923 - val_accuracy: 0.5291\n",
            "Epoch 18/50\n",
            "131/131 [==============================] - 6s 49ms/step - loss: 1.0458 - accuracy: 0.5040 - val_loss: 0.6932 - val_accuracy: 0.5291\n",
            "Epoch 19/50\n",
            "131/131 [==============================] - 7s 50ms/step - loss: 1.1951 - accuracy: 0.4656 - val_loss: 0.7221 - val_accuracy: 0.4893\n",
            "Epoch 20/50\n",
            "131/131 [==============================] - 7s 50ms/step - loss: 1.1518 - accuracy: 0.4955 - val_loss: 0.7120 - val_accuracy: 0.4893\n",
            "Epoch 21/50\n",
            "131/131 [==============================] - 7s 50ms/step - loss: 1.2865 - accuracy: 0.4774 - val_loss: 0.7068 - val_accuracy: 0.4893\n",
            "Epoch 22/50\n",
            "131/131 [==============================] - 7s 50ms/step - loss: 1.1404 - accuracy: 0.5152 - val_loss: 0.7042 - val_accuracy: 0.4893\n",
            "Epoch 23/50\n",
            "131/131 [==============================] - 7s 51ms/step - loss: 0.9924 - accuracy: 0.5002 - val_loss: 0.7046 - val_accuracy: 0.4893\n",
            "Epoch 24/50\n",
            "131/131 [==============================] - 7s 51ms/step - loss: 1.0779 - accuracy: 0.4837 - val_loss: 0.7199 - val_accuracy: 0.4893\n",
            "Epoch 25/50\n",
            "131/131 [==============================] - 7s 51ms/step - loss: 1.1932 - accuracy: 0.4946 - val_loss: 0.8401 - val_accuracy: 0.4893\n",
            "Epoch 26/50\n",
            "131/131 [==============================] - 7s 50ms/step - loss: 1.0019 - accuracy: 0.4536 - val_loss: 0.7049 - val_accuracy: 0.4893\n",
            "Epoch 27/50\n",
            "131/131 [==============================] - 6s 49ms/step - loss: 0.8810 - accuracy: 0.5041 - val_loss: 0.7407 - val_accuracy: 0.4893\n",
            "Epoch 28/50\n",
            "131/131 [==============================] - 7s 50ms/step - loss: 0.9466 - accuracy: 0.4620 - val_loss: 0.6960 - val_accuracy: 0.4954\n",
            "Epoch 29/50\n",
            "131/131 [==============================] - 6s 49ms/step - loss: 0.9486 - accuracy: 0.4937 - val_loss: 0.6957 - val_accuracy: 0.5107\n",
            "Epoch 30/50\n",
            "131/131 [==============================] - 7s 51ms/step - loss: 0.8782 - accuracy: 0.4865 - val_loss: 0.6941 - val_accuracy: 0.5382\n",
            "Epoch 31/50\n",
            "131/131 [==============================] - 7s 51ms/step - loss: 0.8534 - accuracy: 0.4882 - val_loss: 0.6996 - val_accuracy: 0.4924\n",
            "Epoch 32/50\n",
            "131/131 [==============================] - 7s 50ms/step - loss: 0.8936 - accuracy: 0.4766 - val_loss: 0.7015 - val_accuracy: 0.4893\n",
            "Epoch 33/50\n",
            "131/131 [==============================] - 7s 51ms/step - loss: 0.9011 - accuracy: 0.4905 - val_loss: 0.6931 - val_accuracy: 0.5382\n",
            "Epoch 34/50\n",
            "131/131 [==============================] - 7s 50ms/step - loss: 0.8063 - accuracy: 0.5364 - val_loss: 0.7119 - val_accuracy: 0.4893\n",
            "Epoch 35/50\n",
            "131/131 [==============================] - 7s 50ms/step - loss: 0.8351 - accuracy: 0.4975 - val_loss: 0.7226 - val_accuracy: 0.4893\n",
            "Epoch 36/50\n",
            "131/131 [==============================] - 7s 50ms/step - loss: 0.8534 - accuracy: 0.5052 - val_loss: 0.7031 - val_accuracy: 0.4893\n",
            "Epoch 37/50\n",
            "131/131 [==============================] - 7s 51ms/step - loss: 0.8524 - accuracy: 0.5019 - val_loss: 0.6935 - val_accuracy: 0.5382\n",
            "Epoch 38/50\n",
            "131/131 [==============================] - 7s 52ms/step - loss: 0.8246 - accuracy: 0.5027 - val_loss: 0.7439 - val_accuracy: 0.4893\n",
            "Epoch 39/50\n",
            "131/131 [==============================] - 7s 50ms/step - loss: 0.8180 - accuracy: 0.5126 - val_loss: 0.7123 - val_accuracy: 0.4893\n",
            "Epoch 40/50\n",
            "131/131 [==============================] - 6s 49ms/step - loss: 0.8274 - accuracy: 0.4868 - val_loss: 0.7206 - val_accuracy: 0.4893\n",
            "Epoch 41/50\n",
            "131/131 [==============================] - 7s 51ms/step - loss: 0.8474 - accuracy: 0.4843 - val_loss: 0.6995 - val_accuracy: 0.5321\n",
            "Epoch 42/50\n",
            "131/131 [==============================] - 7s 51ms/step - loss: 0.7950 - accuracy: 0.5125 - val_loss: 0.6904 - val_accuracy: 0.5229\n",
            "Epoch 43/50\n",
            "131/131 [==============================] - 7s 50ms/step - loss: 0.8386 - accuracy: 0.4912 - val_loss: 0.6951 - val_accuracy: 0.5413\n",
            "Epoch 44/50\n",
            "131/131 [==============================] - 7s 51ms/step - loss: 0.7930 - accuracy: 0.5061 - val_loss: 0.7200 - val_accuracy: 0.4893\n",
            "Epoch 45/50\n",
            "131/131 [==============================] - 7s 52ms/step - loss: 0.7933 - accuracy: 0.5043 - val_loss: 0.6859 - val_accuracy: 0.5657\n",
            "Epoch 46/50\n",
            "131/131 [==============================] - 7s 51ms/step - loss: 0.8034 - accuracy: 0.5009 - val_loss: 0.7188 - val_accuracy: 0.5138\n",
            "Epoch 47/50\n",
            "131/131 [==============================] - 7s 50ms/step - loss: 0.7648 - accuracy: 0.5335 - val_loss: 0.6904 - val_accuracy: 0.5260\n",
            "Epoch 48/50\n",
            "131/131 [==============================] - 7s 50ms/step - loss: 0.8166 - accuracy: 0.4877 - val_loss: 0.6895 - val_accuracy: 0.5291\n",
            "Epoch 49/50\n",
            "131/131 [==============================] - 7s 50ms/step - loss: 0.7920 - accuracy: 0.4889 - val_loss: 0.6891 - val_accuracy: 0.5321\n",
            "Epoch 50/50\n",
            "131/131 [==============================] - 7s 51ms/step - loss: 0.7920 - accuracy: 0.4787 - val_loss: 0.6824 - val_accuracy: 0.5535\n"
          ],
          "name": "stdout"
        },
        {
          "output_type": "stream",
          "text": [
            "/usr/local/lib/python3.7/dist-packages/keras/engine/sequential.py:450: UserWarning: `model.predict_classes()` is deprecated and will be removed after 2021-01-01. Please use instead:* `np.argmax(model.predict(x), axis=-1)`,   if your model does multi-class classification   (e.g. if it uses a `softmax` last-layer activation).* `(model.predict(x) > 0.5).astype(\"int32\")`,   if your model does binary classification   (e.g. if it uses a `sigmoid` last-layer activation).\n",
            "  warnings.warn('`model.predict_classes()` is deprecated and '\n"
          ],
          "name": "stderr"
        },
        {
          "output_type": "execute_result",
          "data": {
            "text/plain": [
              "array([[0],\n",
              "       [0],\n",
              "       [0],\n",
              "       [0],\n",
              "       [0],\n",
              "       [0],\n",
              "       [0],\n",
              "       [0],\n",
              "       [1],\n",
              "       [0],\n",
              "       [0],\n",
              "       [0],\n",
              "       [0],\n",
              "       [0],\n",
              "       [1],\n",
              "       [0],\n",
              "       [0],\n",
              "       [0],\n",
              "       [0],\n",
              "       [0],\n",
              "       [0],\n",
              "       [0],\n",
              "       [0],\n",
              "       [0],\n",
              "       [1],\n",
              "       [0],\n",
              "       [0],\n",
              "       [0],\n",
              "       [0],\n",
              "       [0],\n",
              "       [0],\n",
              "       [1],\n",
              "       [0],\n",
              "       [0],\n",
              "       [1],\n",
              "       [0],\n",
              "       [0],\n",
              "       [0],\n",
              "       [0],\n",
              "       [0],\n",
              "       [1],\n",
              "       [0],\n",
              "       [0],\n",
              "       [0],\n",
              "       [0],\n",
              "       [0],\n",
              "       [0],\n",
              "       [0],\n",
              "       [0],\n",
              "       [0],\n",
              "       [0],\n",
              "       [0],\n",
              "       [0],\n",
              "       [1],\n",
              "       [0],\n",
              "       [0],\n",
              "       [0],\n",
              "       [0],\n",
              "       [0],\n",
              "       [0],\n",
              "       [0],\n",
              "       [0],\n",
              "       [0],\n",
              "       [0],\n",
              "       [0],\n",
              "       [0],\n",
              "       [0],\n",
              "       [0],\n",
              "       [0],\n",
              "       [0],\n",
              "       [0],\n",
              "       [0],\n",
              "       [0],\n",
              "       [0],\n",
              "       [0],\n",
              "       [0],\n",
              "       [0],\n",
              "       [0],\n",
              "       [0],\n",
              "       [0],\n",
              "       [1],\n",
              "       [0],\n",
              "       [0],\n",
              "       [1],\n",
              "       [0],\n",
              "       [0],\n",
              "       [0],\n",
              "       [0],\n",
              "       [0],\n",
              "       [0],\n",
              "       [0],\n",
              "       [0],\n",
              "       [0],\n",
              "       [0],\n",
              "       [0],\n",
              "       [1],\n",
              "       [0],\n",
              "       [0],\n",
              "       [0],\n",
              "       [1],\n",
              "       [0],\n",
              "       [1],\n",
              "       [0],\n",
              "       [0],\n",
              "       [0],\n",
              "       [1],\n",
              "       [1],\n",
              "       [1],\n",
              "       [0],\n",
              "       [0],\n",
              "       [0],\n",
              "       [1],\n",
              "       [0],\n",
              "       [0],\n",
              "       [0],\n",
              "       [0],\n",
              "       [0],\n",
              "       [0],\n",
              "       [0],\n",
              "       [0],\n",
              "       [0],\n",
              "       [0],\n",
              "       [0],\n",
              "       [0],\n",
              "       [0],\n",
              "       [1],\n",
              "       [0],\n",
              "       [0],\n",
              "       [0],\n",
              "       [0],\n",
              "       [0],\n",
              "       [0],\n",
              "       [1],\n",
              "       [1],\n",
              "       [0],\n",
              "       [0],\n",
              "       [0],\n",
              "       [0],\n",
              "       [0],\n",
              "       [0],\n",
              "       [0],\n",
              "       [0],\n",
              "       [0],\n",
              "       [0],\n",
              "       [0],\n",
              "       [0],\n",
              "       [0],\n",
              "       [1],\n",
              "       [0],\n",
              "       [0],\n",
              "       [0],\n",
              "       [0],\n",
              "       [0],\n",
              "       [0],\n",
              "       [0],\n",
              "       [0],\n",
              "       [0],\n",
              "       [0],\n",
              "       [0],\n",
              "       [0],\n",
              "       [1],\n",
              "       [0],\n",
              "       [0],\n",
              "       [0],\n",
              "       [0],\n",
              "       [0],\n",
              "       [0],\n",
              "       [0],\n",
              "       [0],\n",
              "       [0],\n",
              "       [1],\n",
              "       [0],\n",
              "       [1],\n",
              "       [1],\n",
              "       [0],\n",
              "       [1],\n",
              "       [1],\n",
              "       [0],\n",
              "       [1],\n",
              "       [0],\n",
              "       [0],\n",
              "       [1],\n",
              "       [0],\n",
              "       [0],\n",
              "       [0],\n",
              "       [0],\n",
              "       [0],\n",
              "       [0],\n",
              "       [0],\n",
              "       [0],\n",
              "       [0],\n",
              "       [0],\n",
              "       [0],\n",
              "       [0],\n",
              "       [1],\n",
              "       [1],\n",
              "       [1],\n",
              "       [0],\n",
              "       [0],\n",
              "       [0],\n",
              "       [0],\n",
              "       [0],\n",
              "       [0],\n",
              "       [0],\n",
              "       [1],\n",
              "       [0],\n",
              "       [1],\n",
              "       [0],\n",
              "       [0],\n",
              "       [0],\n",
              "       [0],\n",
              "       [0],\n",
              "       [0],\n",
              "       [0],\n",
              "       [0],\n",
              "       [0],\n",
              "       [0],\n",
              "       [0],\n",
              "       [0],\n",
              "       [1],\n",
              "       [0],\n",
              "       [1],\n",
              "       [0],\n",
              "       [0],\n",
              "       [0],\n",
              "       [0],\n",
              "       [1],\n",
              "       [0],\n",
              "       [0],\n",
              "       [0],\n",
              "       [0],\n",
              "       [0],\n",
              "       [0],\n",
              "       [1],\n",
              "       [0],\n",
              "       [0],\n",
              "       [0],\n",
              "       [0],\n",
              "       [0],\n",
              "       [0],\n",
              "       [0],\n",
              "       [0],\n",
              "       [0],\n",
              "       [0],\n",
              "       [0],\n",
              "       [1],\n",
              "       [1],\n",
              "       [0],\n",
              "       [0],\n",
              "       [1],\n",
              "       [1],\n",
              "       [1],\n",
              "       [0],\n",
              "       [0],\n",
              "       [0],\n",
              "       [0],\n",
              "       [0],\n",
              "       [0],\n",
              "       [1],\n",
              "       [0],\n",
              "       [0],\n",
              "       [0],\n",
              "       [0],\n",
              "       [0],\n",
              "       [0],\n",
              "       [0],\n",
              "       [1],\n",
              "       [0],\n",
              "       [0],\n",
              "       [0],\n",
              "       [0],\n",
              "       [0],\n",
              "       [0],\n",
              "       [0],\n",
              "       [0],\n",
              "       [0],\n",
              "       [0],\n",
              "       [0],\n",
              "       [0],\n",
              "       [0],\n",
              "       [0],\n",
              "       [0],\n",
              "       [0],\n",
              "       [1],\n",
              "       [0],\n",
              "       [0],\n",
              "       [0],\n",
              "       [1],\n",
              "       [0],\n",
              "       [0],\n",
              "       [0],\n",
              "       [0],\n",
              "       [0],\n",
              "       [0],\n",
              "       [0],\n",
              "       [0],\n",
              "       [1],\n",
              "       [0],\n",
              "       [0],\n",
              "       [0],\n",
              "       [0],\n",
              "       [0],\n",
              "       [0],\n",
              "       [0],\n",
              "       [0],\n",
              "       [0],\n",
              "       [0],\n",
              "       [0],\n",
              "       [0],\n",
              "       [0],\n",
              "       [1],\n",
              "       [0],\n",
              "       [0],\n",
              "       [0],\n",
              "       [0],\n",
              "       [0],\n",
              "       [1],\n",
              "       [0],\n",
              "       [1],\n",
              "       [0],\n",
              "       [0],\n",
              "       [0],\n",
              "       [1],\n",
              "       [0],\n",
              "       [0],\n",
              "       [0],\n",
              "       [0],\n",
              "       [1],\n",
              "       [0],\n",
              "       [0],\n",
              "       [0],\n",
              "       [1],\n",
              "       [0],\n",
              "       [1],\n",
              "       [1],\n",
              "       [0],\n",
              "       [1],\n",
              "       [0],\n",
              "       [0],\n",
              "       [0],\n",
              "       [0],\n",
              "       [0],\n",
              "       [0],\n",
              "       [0],\n",
              "       [0],\n",
              "       [0],\n",
              "       [0],\n",
              "       [0],\n",
              "       [1],\n",
              "       [0],\n",
              "       [0],\n",
              "       [0],\n",
              "       [0],\n",
              "       [0],\n",
              "       [0],\n",
              "       [0],\n",
              "       [0],\n",
              "       [1],\n",
              "       [0],\n",
              "       [0],\n",
              "       [1],\n",
              "       [1],\n",
              "       [0],\n",
              "       [0],\n",
              "       [0],\n",
              "       [0],\n",
              "       [0],\n",
              "       [0],\n",
              "       [0],\n",
              "       [0],\n",
              "       [1],\n",
              "       [0],\n",
              "       [0],\n",
              "       [0],\n",
              "       [0],\n",
              "       [0],\n",
              "       [0],\n",
              "       [0],\n",
              "       [0],\n",
              "       [0],\n",
              "       [0],\n",
              "       [1],\n",
              "       [0],\n",
              "       [0],\n",
              "       [0],\n",
              "       [1],\n",
              "       [0],\n",
              "       [0],\n",
              "       [0],\n",
              "       [0],\n",
              "       [0],\n",
              "       [0],\n",
              "       [0],\n",
              "       [0],\n",
              "       [0],\n",
              "       [0],\n",
              "       [0],\n",
              "       [0],\n",
              "       [0],\n",
              "       [0],\n",
              "       [0],\n",
              "       [0],\n",
              "       [0],\n",
              "       [0],\n",
              "       [0],\n",
              "       [0],\n",
              "       [0],\n",
              "       [0],\n",
              "       [0],\n",
              "       [1],\n",
              "       [0],\n",
              "       [0],\n",
              "       [0],\n",
              "       [0],\n",
              "       [0],\n",
              "       [0],\n",
              "       [0],\n",
              "       [0],\n",
              "       [0],\n",
              "       [0],\n",
              "       [0],\n",
              "       [0],\n",
              "       [1],\n",
              "       [0],\n",
              "       [0],\n",
              "       [0],\n",
              "       [0],\n",
              "       [0],\n",
              "       [0],\n",
              "       [1],\n",
              "       [0],\n",
              "       [0],\n",
              "       [0],\n",
              "       [1],\n",
              "       [0],\n",
              "       [0],\n",
              "       [1],\n",
              "       [0],\n",
              "       [0],\n",
              "       [0],\n",
              "       [0],\n",
              "       [0],\n",
              "       [1],\n",
              "       [0],\n",
              "       [0],\n",
              "       [0],\n",
              "       [1],\n",
              "       [0],\n",
              "       [1],\n",
              "       [1],\n",
              "       [1],\n",
              "       [0],\n",
              "       [1],\n",
              "       [0],\n",
              "       [0],\n",
              "       [1],\n",
              "       [0],\n",
              "       [0],\n",
              "       [0],\n",
              "       [0],\n",
              "       [0],\n",
              "       [0],\n",
              "       [0],\n",
              "       [1],\n",
              "       [0],\n",
              "       [0],\n",
              "       [1],\n",
              "       [0],\n",
              "       [0],\n",
              "       [0],\n",
              "       [1],\n",
              "       [0],\n",
              "       [1],\n",
              "       [1],\n",
              "       [0],\n",
              "       [0],\n",
              "       [1],\n",
              "       [1],\n",
              "       [0],\n",
              "       [0]], dtype=int32)"
            ]
          },
          "metadata": {
            "tags": []
          },
          "execution_count": 221
        }
      ]
    },
    {
      "cell_type": "code",
      "metadata": {
        "id": "TdT5ViPxtEOR"
      },
      "source": [
        "from sklearn.metrics import confusion_matrix\n",
        "from sklearn.metrics import roc_curve, roc_auc_score, f1_score\n",
        "from sklearn.metrics import accuracy_score\n",
        "from sklearn import metrics"
      ],
      "execution_count": null,
      "outputs": []
    },
    {
      "cell_type": "code",
      "metadata": {
        "colab": {
          "base_uri": "https://localhost:8080/"
        },
        "id": "820-a7q62O6v",
        "outputId": "eef2e591-3927-4ce3-c308-9aae318c2857"
      },
      "source": [
        "pred_rnn = model.predict_classes(x_shaped_test)\n",
        "y_score_10 = model.predict_proba(x_shaped_test)\n",
        "acc10 = accuracy_score(y_shaped_test, pred_rnn)\n",
        "f1_score_10 = metrics.f1_score(y_shaped_test, np.array(pred_rnn))\n",
        "roc_10 = metrics.roc_auc_score(y_shaped_test, y_score_10)\n",
        "print([acc10, f1_score_10, roc_10])\n",
        "print(confusion_matrix(y_shaped_test, pred_rnn))"
      ],
      "execution_count": null,
      "outputs": [
        {
          "output_type": "stream",
          "text": [
            "/usr/local/lib/python3.7/dist-packages/keras/engine/sequential.py:450: UserWarning: `model.predict_classes()` is deprecated and will be removed after 2021-01-01. Please use instead:* `np.argmax(model.predict(x), axis=-1)`,   if your model does multi-class classification   (e.g. if it uses a `softmax` last-layer activation).* `(model.predict(x) > 0.5).astype(\"int32\")`,   if your model does binary classification   (e.g. if it uses a `sigmoid` last-layer activation).\n",
            "  warnings.warn('`model.predict_classes()` is deprecated and '\n"
          ],
          "name": "stderr"
        },
        {
          "output_type": "stream",
          "text": [
            "[0.6333333333333333, 0.41721854304635764, 0.5951048951048952]\n",
            "[[241  19]\n",
            " [157  63]]\n"
          ],
          "name": "stdout"
        },
        {
          "output_type": "stream",
          "text": [
            "/usr/local/lib/python3.7/dist-packages/keras/engine/sequential.py:425: UserWarning: `model.predict_proba()` is deprecated and will be removed after 2021-01-01. Please use `model.predict()` instead.\n",
            "  warnings.warn('`model.predict_proba()` is deprecated and '\n"
          ],
          "name": "stderr"
        }
      ]
    },
    {
      "cell_type": "code",
      "metadata": {
        "colab": {
          "base_uri": "https://localhost:8080/",
          "height": 530
        },
        "id": "4zslJ91s316X",
        "outputId": "78ae26ce-f342-4398-8116-cb3e75546b0f"
      },
      "source": [
        "import matplotlib.pyplot as plt\n",
        "plt.figure(figsize=(8,8))\n",
        "plt.plot([0, 1], [0, 1],'r--')\n",
        "fpr, tpr, thresholds = roc_curve(y_shaped_test, y_score_10)\n",
        "plt.plot(fpr, tpr, label= 'ROC curve (area = %0.2f)' % roc_10)\n",
        "plt.title('ROC Curve for LSTM')\n",
        "plt.xlabel('False Positive Rate')\n",
        "plt.ylabel('True Positive Rate')\n",
        "plt.legend()"
      ],
      "execution_count": null,
      "outputs": [
        {
          "output_type": "execute_result",
          "data": {
            "text/plain": [
              "<matplotlib.legend.Legend at 0x7f262244e410>"
            ]
          },
          "metadata": {
            "tags": []
          },
          "execution_count": 224
        },
        {
          "output_type": "display_data",
          "data": {
            "image/png": "[encoded data removed]",
            "text/plain": [
              "<Figure size 576x576 with 1 Axes>"
            ]
          },
          "metadata": {
            "tags": [],
            "needs_background": "light"
          }
        }
      ]
    },
    {
      "cell_type": "code",
      "metadata": {
        "id": "uhz_V6Dn4_h-",
        "colab": {
          "base_uri": "https://localhost:8080/",
          "height": 500
        },
        "outputId": "194ccd9c-22e5-4e18-b13d-7236cfdf593e"
      },
      "source": [
        "from sklearn.calibration import calibration_curve\n",
        "plt.figure(figsize=(8,8))\n",
        "plt.plot([0, 1], [0, 1], \"k:\", label=\"Perfectly calibrated\")\n",
        "fraction_of_positives, mean_predicted_value=calibration_curve(y_shaped_test,y_score_10,n_bins=10)\n",
        "plt.plot(mean_predicted_value, fraction_of_positives,\"s-\", label=\"%s\" % 'LSTM')"
      ],
      "execution_count": null,
      "outputs": [
        {
          "output_type": "execute_result",
          "data": {
            "text/plain": [
              "[<matplotlib.lines.Line2D at 0x7f26224ae950>]"
            ]
          },
          "metadata": {
            "tags": []
          },
          "execution_count": 225
        },
        {
          "output_type": "display_data",
          "data": {
            "image/png": "[encoded data removed]",
            "text/plain": [
              "<Figure size 576x576 with 1 Axes>"
            ]
          },
          "metadata": {
            "tags": [],
            "needs_background": "light"
          }
        }
      ]
    },
    {
      "cell_type": "code",
      "metadata": {
        "id": "Vag-9E7pnUwl"
      },
      "source": [
        ""
      ],
      "execution_count": null,
      "outputs": []
    }
  ]
}